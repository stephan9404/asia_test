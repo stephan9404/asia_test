{
 "cells": [
  {
   "cell_type": "markdown",
   "metadata": {},
   "source": [
    "# 네이버 환율 정보를 크롤링해서 환율을 주기적으로 알림받고 싶은 분들에게 텔레그램으로 알림을 주는 서비스입니다.\n",
    "# 원하는 정보의 통화를 입력하고 환전 방식을 숫자로 입력하면 얼마를 환전받을 수 있는지 정보도 제공하도록 하였습니다."
   ]
  },
  {
   "cell_type": "markdown",
   "metadata": {},
   "source": [
    "# 라이브러리 설치"
   ]
  },
  {
   "cell_type": "code",
   "execution_count": null,
   "metadata": {},
   "outputs": [],
   "source": [
    "!pip install schedule"
   ]
  },
  {
   "cell_type": "code",
   "execution_count": null,
   "metadata": {},
   "outputs": [],
   "source": [
    "!pip install selenium"
   ]
  },
  {
   "cell_type": "code",
   "execution_count": 1,
   "metadata": {},
   "outputs": [],
   "source": [
    "# HTTP 통신\n",
    "import requests\n",
    "from urllib.parse import urlencode, quote_plus, urlparse\n",
    "from urllib.request import urlopen\n",
    "import urllib\n",
    "\n",
    "# 데이터 가공\n",
    "from bs4 import BeautifulSoup\n",
    "import json\n",
    "\n",
    "#크롤링\n",
    "import requests\n",
    "from bs4 import BeautifulSoup\n",
    "import pandas as pd\n",
    "\n",
    "#selenium\n",
    "from selenium import webdriver\n",
    "import time\n",
    "from selenium.webdriver.common.keys import Keys"
   ]
  },
  {
   "cell_type": "markdown",
   "metadata": {},
   "source": [
    "# 텔레그램 챗봇 연결"
   ]
  },
  {
   "cell_type": "code",
   "execution_count": 2,
   "metadata": {},
   "outputs": [],
   "source": [
    "API_key_Telegram = \"1061348148:AAF_BxHrEBzRQ-RkPIUCALIOC2CcFRoSQgQ\""
   ]
  },
  {
   "cell_type": "code",
   "execution_count": 2,
   "metadata": {},
   "outputs": [],
   "source": [
    "def get_myChatID(parameter):\n",
    "#     '''parameter = ~을 의미한다\n",
    "#     이 코드셀에서 에러가 난다면, 해당 텔레그램 봇에서 직접 아무 메시지나 \"두 번\" 입력'''\n",
    "    # 이 코드셀에서 에러가 난다면, 해당 텔레그램 봇에서 직접 아무 메시지나 \"두 번\" 입력\n",
    "    endpoint = 'https://api.telegram.org/bot'\n",
    "    query = '/' + 'getUpdates'\n",
    "    URL = endpoint + API_key_Telegram + query\n",
    "    \n",
    "    print(URL)\n",
    "    \n",
    "    request = urllib.request.Request(URL)\n",
    "    response = urllib.request.urlopen(request)\n",
    "    rescode = response.getcode()\n",
    "    request_body = urlopen(request).read()\n",
    "\n",
    "    if rescode == 200 :\n",
    "        print(rescode)\n",
    "        print('SUCCESS \\n')\n",
    "        chat_id = json.loads(request_body)['result'][0]['message']['from']['id']\n",
    "        print('나의 chat ID : '+ str(chat_id))\n",
    "     \n",
    "        return str(chat_id)\n",
    "    \n",
    "    else :\n",
    "        print(rescode)\n",
    "        print('FAILED')"
   ]
  },
  {
   "cell_type": "code",
   "execution_count": 4,
   "metadata": {},
   "outputs": [
    {
     "name": "stdout",
     "output_type": "stream",
     "text": [
      "https://api.telegram.org/bot1061348148:AAF_BxHrEBzRQ-RkPIUCALIOC2CcFRoSQgQ/getUpdates\n",
      "200\n",
      "SUCCESS \n",
      "\n",
      "나의 chat ID : 680310034\n"
     ]
    },
    {
     "data": {
      "text/plain": [
       "'680310034'"
      ]
     },
     "execution_count": 4,
     "metadata": {},
     "output_type": "execute_result"
    }
   ],
   "source": [
    "# 이 함수가 에러 없이 실행되면 텔레그램에 무사히 연동된 것이다.\n",
    "get_myChatID()"
   ]
  },
  {
   "cell_type": "code",
   "execution_count": 5,
   "metadata": {},
   "outputs": [],
   "source": [
    "def send_message(input_text) :\n",
    "    \n",
    "    # 유저마다 chat id가 다르다.\n",
    "    chat_id = get_myChatID()\n",
    "    \n",
    "    endpoint = 'https://api.telegram.org/bot'\n",
    "    action = '/' + 'sendmessage'\n",
    "    param_list = [\n",
    "        'chat_id=' + str(chat_id), \n",
    "        'text=' + input_text\n",
    "    ]\n",
    "    param = '&'.join(param_list)\n",
    "    query = action + '?' + param\n",
    "    \n",
    "    URL = endpoint + API_key_Telegram + query\n",
    "    print(URL)\n",
    "    \n",
    "    try : \n",
    "        r = requests.get(URL)\n",
    "        print(r.text)\n",
    "    \n",
    "    except Exception as e:\n",
    "        print(str(e))"
   ]
  },
  {
   "cell_type": "code",
   "execution_count": 6,
   "metadata": {},
   "outputs": [],
   "source": [
    "def read_message():\n",
    "    endpoint = 'https://api.telegram.org/bot'\n",
    "    query = '/' + 'getUpdates'\n",
    "    URL = endpoint + API_key_Telegram + query\n",
    "    #print(URL)\n",
    "    \n",
    "    request = urllib.request.Request(URL)\n",
    "    response = urllib.request.urlopen(request)\n",
    "    rescode = response.getcode()\n",
    "    request_body = urlopen(request).read()\n",
    "    \n",
    "    if rescode == 200:\n",
    "        text = json.loads(request_body)['result'][-1]['message']['text']\n",
    "        return text"
   ]
  },
  {
   "cell_type": "markdown",
   "metadata": {},
   "source": [
    "# 네이버 환율사이트 크롤링"
   ]
  },
  {
   "cell_type": "code",
   "execution_count": 7,
   "metadata": {},
   "outputs": [],
   "source": [
    "def currency_crawler():\n",
    "    url = \"https://finance.naver.com/marketindex/\"\n",
    "    req = requests.get(url).text\n",
    "    soup = BeautifulSoup(req, \"html.parser\")\n",
    "    second = soup.find(\"div\",{\"class\":\"selectbox-noscript\"})\n",
    "    lists = second.find_all(\"option\")\n",
    "    Cdict = {}\n",
    "    for item in lists:\n",
    "        threeDetails = item.text\n",
    "        key = threeDetails.split(\" \")[-3]\n",
    "        unit = threeDetails.split(\" \")[-2]\n",
    "        symbol = threeDetails.split(\" \")[-1]\n",
    "        value = []\n",
    "        value.append(item[\"value\"])\n",
    "        value.append(unit)\n",
    "        value.append(symbol)\n",
    "        Cdict[key] = value\n",
    "    return Cdict "
   ]
  },
  {
   "cell_type": "code",
   "execution_count": 8,
   "metadata": {},
   "outputs": [
    {
     "data": {
      "text/plain": [
       "{'대한민국': ['1', '원', 'KRW'],\n",
       " '미국': ['1204.9', '달러', 'USD'],\n",
       " '유럽연합': ['1300.39', '유로', 'EUR'],\n",
       " '일본': ['10.7513', '엔', 'JPY'],\n",
       " '중국': ['171.11', '위안', 'CNY'],\n",
       " '홍콩': ['154.73', '달러', 'HKD'],\n",
       " '대만': ['39.68', '달러', 'TWD'],\n",
       " '영국': ['1552.45', '파운드', 'GBP'],\n",
       " '오만': ['3129.37', '리알', 'OMR'],\n",
       " '캐나다': ['909.12', '달러', 'CAD'],\n",
       " '스위스': ['1225.11', '프랑', 'CHF'],\n",
       " '스웨덴': ['122.87', '크로나', 'SEK'],\n",
       " '호주': ['797.34', '달러', 'AUD'],\n",
       " '뉴질랜드': ['762.88', '달러', 'NZD'],\n",
       " '체코': ['51.9', '코루나', 'CZK'],\n",
       " '칠레': ['1.49', '페소', 'CLP'],\n",
       " '터키': ['197.32', '리라', 'TRY'],\n",
       " '몽골': ['0.44', '투그릭', 'MNT'],\n",
       " '이스라엘': ['351.65', '세켈', 'ILS'],\n",
       " '덴마크': ['174.14', '크로네', 'DKK'],\n",
       " '노르웨이': ['129.31', '크로네', 'NOK'],\n",
       " '사우디아라비아': ['321.24', '리얄', 'SAR'],\n",
       " '쿠웨이트': ['3938.87', '디나르', 'KWD'],\n",
       " '바레인': ['3196.11', '디나르', 'BHD'],\n",
       " '아랍에미리트': ['328.03', '디르함', 'AED'],\n",
       " '요르단': ['1699.44', '디나르', 'JOD'],\n",
       " '이집트': ['77.44', '파운드', 'EGP'],\n",
       " '태국': ['38.16', '바트', 'THB'],\n",
       " '싱가포르': ['860.52', '달러', 'SGD'],\n",
       " '말레이시아': ['287.57', '링깃', 'MYR'],\n",
       " '인도네시아': ['0.08800000000000001', '루피아', 'IDR'],\n",
       " '카타르': ['330.9', '리얄', 'QAR'],\n",
       " '카자흐스탄': ['3.2', '텡게', 'KZT'],\n",
       " '브루나이': ['860.52', '달러', 'BND'],\n",
       " '인도': ['16.81', '루피', 'INR'],\n",
       " '파키스탄': ['7.81', '루피', 'PKR'],\n",
       " '방글라데시': ['14.19', '타카', 'BDT'],\n",
       " '필리핀': ['23.77', '페소', 'PHP'],\n",
       " '멕시코': ['63.97', '페소', 'MXN'],\n",
       " '브라질': ['274.22', '레알', 'BRL'],\n",
       " '베트남': ['0.0519', '동', 'VND'],\n",
       " '공화국': ['79.82', '랜드', 'ZAR'],\n",
       " '러시아': ['18.78', '루블', 'RUB'],\n",
       " '헝가리': ['3.84', '포린트', 'HUF'],\n",
       " '폴란드': ['304.05', '즈워티', 'PLN']}"
      ]
     },
     "execution_count": 8,
     "metadata": {},
     "output_type": "execute_result"
    }
   ],
   "source": [
    "currency_crawler()"
   ]
  },
  {
   "cell_type": "code",
   "execution_count": 9,
   "metadata": {},
   "outputs": [],
   "source": [
    "Cdict = currency_crawler()"
   ]
  },
  {
   "cell_type": "markdown",
   "metadata": {},
   "source": [
    "# 실행 코드"
   ]
  },
  {
   "cell_type": "markdown",
   "metadata": {},
   "source": [
    "## 챗봇 대화(?)"
   ]
  },
  {
   "cell_type": "code",
   "execution_count": 10,
   "metadata": {
    "scrolled": true
   },
   "outputs": [
    {
     "name": "stdout",
     "output_type": "stream",
     "text": [
      "https://api.telegram.org/bot1061348148:AAF_BxHrEBzRQ-RkPIUCALIOC2CcFRoSQgQ/getUpdates\n",
      "200\n",
      "SUCCESS \n",
      "\n",
      "나의 chat ID : 680310034\n",
      "https://api.telegram.org/bot1061348148:AAF_BxHrEBzRQ-RkPIUCALIOC2CcFRoSQgQ/sendmessage?chat_id=680310034&text=환율을 알고 싶은 나라를 입력해주세요!\n",
      "{\"ok\":true,\"result\":{\"message_id\":33,\"from\":{\"id\":1061348148,\"is_bot\":true,\"first_name\":\"Currency_bot\",\"username\":\"AhkyoungBot\"},\"chat\":{\"id\":680310034,\"first_name\":\"\\uc5f0\\uacbd\",\"last_name\":\"\\ud64d\",\"type\":\"private\"},\"date\":1582249783,\"text\":\"\\ud658\\uc728\\uc744 \\uc54c\\uace0 \\uc2f6\\uc740 \\ub098\\ub77c\\ub97c \\uc785\\ub825\\ud574\\uc8fc\\uc138\\uc694!\"}}\n"
     ]
    }
   ],
   "source": [
    "send_message(\"환율을 알고 싶은 나라를 입력해주세요!\")"
   ]
  },
  {
   "cell_type": "code",
   "execution_count": 12,
   "metadata": {},
   "outputs": [
    {
     "data": {
      "text/plain": [
       "'대만'"
      ]
     },
     "execution_count": 12,
     "metadata": {},
     "output_type": "execute_result"
    }
   ],
   "source": [
    "want = read_message()\n",
    "want"
   ]
  },
  {
   "cell_type": "code",
   "execution_count": null,
   "metadata": {},
   "outputs": [],
   "source": [
    "type(want)"
   ]
  },
  {
   "cell_type": "code",
   "execution_count": 13,
   "metadata": {},
   "outputs": [
    {
     "name": "stdout",
     "output_type": "stream",
     "text": [
      "https://api.telegram.org/bot1061348148:AAF_BxHrEBzRQ-RkPIUCALIOC2CcFRoSQgQ/getUpdates\n",
      "200\n",
      "SUCCESS \n",
      "\n",
      "나의 chat ID : 680310034\n",
      "https://api.telegram.org/bot1061348148:AAF_BxHrEBzRQ-RkPIUCALIOC2CcFRoSQgQ/sendmessage?chat_id=680310034&text=대만 달러의 환율은 39.68 원 입니다.\n",
      "{\"ok\":true,\"result\":{\"message_id\":35,\"from\":{\"id\":1061348148,\"is_bot\":true,\"first_name\":\"Currency_bot\",\"username\":\"AhkyoungBot\"},\"chat\":{\"id\":680310034,\"first_name\":\"\\uc5f0\\uacbd\",\"last_name\":\"\\ud64d\",\"type\":\"private\"},\"date\":1582249802,\"text\":\"\\ub300\\ub9cc \\ub2ec\\ub7ec\\uc758 \\ud658\\uc728\\uc740 39.68 \\uc6d0 \\uc785\\ub2c8\\ub2e4.\"}}\n"
     ]
    }
   ],
   "source": [
    "send_message(want + \" \"+Cdict[want][1] +\"의 환율은 \"+ Cdict[want][0] + \" 원 입니다.\")"
   ]
  },
  {
   "cell_type": "code",
   "execution_count": 14,
   "metadata": {},
   "outputs": [
    {
     "name": "stdout",
     "output_type": "stream",
     "text": [
      "https://api.telegram.org/bot1061348148:AAF_BxHrEBzRQ-RkPIUCALIOC2CcFRoSQgQ/getUpdates\n",
      "200\n",
      "SUCCESS \n",
      "\n",
      "나의 chat ID : 680310034\n",
      "https://api.telegram.org/bot1061348148:AAF_BxHrEBzRQ-RkPIUCALIOC2CcFRoSQgQ/sendmessage?chat_id=680310034&text=원화를 대만 달러 로 바꾸고 싶다면 1\n",
      "대만 달러를 원화로 바꾸고 싶다면 2를 눌러주세요\n",
      "{\"ok\":true,\"result\":{\"message_id\":36,\"from\":{\"id\":1061348148,\"is_bot\":true,\"first_name\":\"Currency_bot\",\"username\":\"AhkyoungBot\"},\"chat\":{\"id\":680310034,\"first_name\":\"\\uc5f0\\uacbd\",\"last_name\":\"\\ud64d\",\"type\":\"private\"},\"date\":1582249808,\"text\":\"\\uc6d0\\ud654\\ub97c \\ub300\\ub9cc \\ub2ec\\ub7ec \\ub85c \\ubc14\\uafb8\\uace0 \\uc2f6\\ub2e4\\uba74 1\\n\\ub300\\ub9cc \\ub2ec\\ub7ec\\ub97c \\uc6d0\\ud654\\ub85c \\ubc14\\uafb8\\uace0 \\uc2f6\\ub2e4\\uba74 2\\ub97c \\ub20c\\ub7ec\\uc8fc\\uc138\\uc694\"}}\n"
     ]
    }
   ],
   "source": [
    "send_message(\"원화를 \"+want +\" \"+ Cdict[want][1]+\" 로 바꾸고 싶다면 1\\n\"+want+\" \"+Cdict[want][1]+\"를 원화로 바꾸고 싶다면 2를 눌러주세요\")"
   ]
  },
  {
   "cell_type": "code",
   "execution_count": 15,
   "metadata": {},
   "outputs": [],
   "source": [
    "how = read_message()\n",
    "try:\n",
    "    if int(how)==1:\n",
    "        whichway = 1 \n",
    "    elif int(how)==2:\n",
    "        whichway = 2\n",
    "except:\n",
    "    send_message(\"1 또는 2를 입력해주세요!\")"
   ]
  },
  {
   "cell_type": "code",
   "execution_count": 16,
   "metadata": {},
   "outputs": [
    {
     "name": "stdout",
     "output_type": "stream",
     "text": [
      "https://api.telegram.org/bot1061348148:AAF_BxHrEBzRQ-RkPIUCALIOC2CcFRoSQgQ/getUpdates\n",
      "200\n",
      "SUCCESS \n",
      "\n",
      "나의 chat ID : 680310034\n",
      "https://api.telegram.org/bot1061348148:AAF_BxHrEBzRQ-RkPIUCALIOC2CcFRoSQgQ/sendmessage?chat_id=680310034&text=얼마를 환전하실건가요?\n",
      "{\"ok\":true,\"result\":{\"message_id\":38,\"from\":{\"id\":1061348148,\"is_bot\":true,\"first_name\":\"Currency_bot\",\"username\":\"AhkyoungBot\"},\"chat\":{\"id\":680310034,\"first_name\":\"\\uc5f0\\uacbd\",\"last_name\":\"\\ud64d\",\"type\":\"private\"},\"date\":1582250000,\"text\":\"\\uc5bc\\ub9c8\\ub97c \\ud658\\uc804\\ud558\\uc2e4\\uac74\\uac00\\uc694?\"}}\n"
     ]
    }
   ],
   "source": [
    "send_message(\"얼마를 환전하실건가요?\")"
   ]
  },
  {
   "cell_type": "code",
   "execution_count": 17,
   "metadata": {},
   "outputs": [
    {
     "data": {
      "text/plain": [
       "'1000달러'"
      ]
     },
     "execution_count": 17,
     "metadata": {},
     "output_type": "execute_result"
    }
   ],
   "source": [
    "amount = read_message()\n",
    "amount"
   ]
  },
  {
   "cell_type": "code",
   "execution_count": 18,
   "metadata": {},
   "outputs": [],
   "source": [
    "num = amount[0:-2]"
   ]
  },
  {
   "cell_type": "code",
   "execution_count": 19,
   "metadata": {},
   "outputs": [
    {
     "name": "stdout",
     "output_type": "stream",
     "text": [
      "https://api.telegram.org/bot1061348148:AAF_BxHrEBzRQ-RkPIUCALIOC2CcFRoSQgQ/getUpdates\n",
      "200\n",
      "SUCCESS \n",
      "\n",
      "나의 chat ID : 680310034\n",
      "https://api.telegram.org/bot1061348148:AAF_BxHrEBzRQ-RkPIUCALIOC2CcFRoSQgQ/sendmessage?chat_id=680310034&text=39680.0원을 환전받게 되실겁니다\n",
      "{\"ok\":true,\"result\":{\"message_id\":40,\"from\":{\"id\":1061348148,\"is_bot\":true,\"first_name\":\"Currency_bot\",\"username\":\"AhkyoungBot\"},\"chat\":{\"id\":680310034,\"first_name\":\"\\uc5f0\\uacbd\",\"last_name\":\"\\ud64d\",\"type\":\"private\"},\"date\":1582250031,\"text\":\"39680.0\\uc6d0\\uc744 \\ud658\\uc804\\ubc1b\\uac8c \\ub418\\uc2e4\\uac81\\ub2c8\\ub2e4\"}}\n"
     ]
    }
   ],
   "source": [
    "if whichway == 1:\n",
    "    won = int(num) * 10000\n",
    "    total = round(won/ float(Cdict[want]),2)\n",
    "    send_message(str(total)+ \" \"+want+\" \"+Cdict[want][1]+\"를 환전받게 되실겁니다.\")\n",
    "elif whichway == 2:\n",
    "    dollar = int(num)\n",
    "    total = round(dollar * float(Cdict[want][0]),2)\n",
    "    send_message(str(total) + \"원을 환전받게 되실겁니다\")\n",
    "    \n"
   ]
  },
  {
   "cell_type": "code",
   "execution_count": null,
   "metadata": {},
   "outputs": [],
   "source": [
    "won = int(num)*10000\n",
    "won"
   ]
  },
  {
   "cell_type": "code",
   "execution_count": null,
   "metadata": {},
   "outputs": [],
   "source": [
    "import math"
   ]
  },
  {
   "cell_type": "code",
   "execution_count": null,
   "metadata": {
    "scrolled": true
   },
   "outputs": [],
   "source": [
    "total = round(won/ float(Cdict[want]),2)\n",
    "total"
   ]
  },
  {
   "cell_type": "code",
   "execution_count": null,
   "metadata": {},
   "outputs": [],
   "source": [
    "send_message(str(total)+ \" \"+want+\" \"+Cdict[want][1]+\"를 환전받게 되실겁니다.\")"
   ]
  },
  {
   "cell_type": "markdown",
   "metadata": {},
   "source": [
    "# 하루에 4번 원하는 통화 환율 텔레그램으로 알림해주기"
   ]
  },
  {
   "cell_type": "code",
   "execution_count": 20,
   "metadata": {},
   "outputs": [],
   "source": [
    "# 시간 관련 \n",
    "import datetime\n",
    "from time import sleep\n",
    "import schedule"
   ]
  },
  {
   "cell_type": "code",
   "execution_count": 21,
   "metadata": {},
   "outputs": [],
   "source": [
    "def job():\n",
    "    send_message(want + \" 달러의 환율은 \"+ Cdict[want][0] + \"원 입니다.\")"
   ]
  },
  {
   "cell_type": "code",
   "execution_count": 22,
   "metadata": {},
   "outputs": [
    {
     "data": {
      "text/plain": [
       "Every 1 minute do job() (last run: [never], next run: 2020-02-21 01:55:23)"
      ]
     },
     "execution_count": 22,
     "metadata": {},
     "output_type": "execute_result"
    }
   ],
   "source": [
    "schedule.every(1).minutes.do(job)"
   ]
  },
  {
   "cell_type": "code",
   "execution_count": null,
   "metadata": {},
   "outputs": [],
   "source": [
    "#6시간에 한번씩 알림 보내기\n",
    "schedule.every(6).hour.do(job)"
   ]
  },
  {
   "cell_type": "code",
   "execution_count": 23,
   "metadata": {},
   "outputs": [
    {
     "name": "stdout",
     "output_type": "stream",
     "text": [
      "https://api.telegram.org/bot1061348148:AAF_BxHrEBzRQ-RkPIUCALIOC2CcFRoSQgQ/getUpdates\n",
      "200\n",
      "SUCCESS \n",
      "\n",
      "나의 chat ID : 680310034\n",
      "https://api.telegram.org/bot1061348148:AAF_BxHrEBzRQ-RkPIUCALIOC2CcFRoSQgQ/sendmessage?chat_id=680310034&text=대만 달러의 환율은 39.68원 입니다.\n",
      "{\"ok\":true,\"result\":{\"message_id\":41,\"from\":{\"id\":1061348148,\"is_bot\":true,\"first_name\":\"Currency_bot\",\"username\":\"AhkyoungBot\"},\"chat\":{\"id\":680310034,\"first_name\":\"\\uc5f0\\uacbd\",\"last_name\":\"\\ud64d\",\"type\":\"private\"},\"date\":1582250127,\"text\":\"\\ub300\\ub9cc \\ub2ec\\ub7ec\\uc758 \\ud658\\uc728\\uc740 39.68\\uc6d0 \\uc785\\ub2c8\\ub2e4.\"}}\n",
      "https://api.telegram.org/bot1061348148:AAF_BxHrEBzRQ-RkPIUCALIOC2CcFRoSQgQ/getUpdates\n",
      "200\n",
      "SUCCESS \n",
      "\n",
      "나의 chat ID : 680310034\n",
      "https://api.telegram.org/bot1061348148:AAF_BxHrEBzRQ-RkPIUCALIOC2CcFRoSQgQ/sendmessage?chat_id=680310034&text=대만 달러의 환율은 39.68원 입니다.\n",
      "{\"ok\":true,\"result\":{\"message_id\":42,\"from\":{\"id\":1061348148,\"is_bot\":true,\"first_name\":\"Currency_bot\",\"username\":\"AhkyoungBot\"},\"chat\":{\"id\":680310034,\"first_name\":\"\\uc5f0\\uacbd\",\"last_name\":\"\\ud64d\",\"type\":\"private\"},\"date\":1582250190,\"text\":\"\\ub300\\ub9cc \\ub2ec\\ub7ec\\uc758 \\ud658\\uc728\\uc740 39.68\\uc6d0 \\uc785\\ub2c8\\ub2e4.\"}}\n",
      "https://api.telegram.org/bot1061348148:AAF_BxHrEBzRQ-RkPIUCALIOC2CcFRoSQgQ/getUpdates\n",
      "200\n",
      "SUCCESS \n",
      "\n",
      "나의 chat ID : 680310034\n",
      "https://api.telegram.org/bot1061348148:AAF_BxHrEBzRQ-RkPIUCALIOC2CcFRoSQgQ/sendmessage?chat_id=680310034&text=대만 달러의 환율은 39.68원 입니다.\n",
      "{\"ok\":true,\"result\":{\"message_id\":43,\"from\":{\"id\":1061348148,\"is_bot\":true,\"first_name\":\"Currency_bot\",\"username\":\"AhkyoungBot\"},\"chat\":{\"id\":680310034,\"first_name\":\"\\uc5f0\\uacbd\",\"last_name\":\"\\ud64d\",\"type\":\"private\"},\"date\":1582250253,\"text\":\"\\ub300\\ub9cc \\ub2ec\\ub7ec\\uc758 \\ud658\\uc728\\uc740 39.68\\uc6d0 \\uc785\\ub2c8\\ub2e4.\"}}\n"
     ]
    },
    {
     "ename": "KeyboardInterrupt",
     "evalue": "",
     "output_type": "error",
     "traceback": [
      "\u001b[0;31m---------------------------------------------------------------------------\u001b[0m",
      "\u001b[0;31mKeyboardInterrupt\u001b[0m                         Traceback (most recent call last)",
      "\u001b[0;32m<ipython-input-23-2d78333a8181>\u001b[0m in \u001b[0;36m<module>\u001b[0;34m()\u001b[0m\n\u001b[1;32m      1\u001b[0m \u001b[0;32mwhile\u001b[0m \u001b[0;32mTrue\u001b[0m\u001b[0;34m:\u001b[0m\u001b[0;34m\u001b[0m\u001b[0m\n\u001b[1;32m      2\u001b[0m     \u001b[0mschedule\u001b[0m\u001b[0;34m.\u001b[0m\u001b[0mrun_pending\u001b[0m\u001b[0;34m(\u001b[0m\u001b[0;34m)\u001b[0m\u001b[0;34m\u001b[0m\u001b[0m\n\u001b[0;32m----> 3\u001b[0;31m     \u001b[0mtime\u001b[0m\u001b[0;34m.\u001b[0m\u001b[0msleep\u001b[0m\u001b[0;34m(\u001b[0m\u001b[0;36m1\u001b[0m\u001b[0;34m)\u001b[0m\u001b[0;34m\u001b[0m\u001b[0m\n\u001b[0m",
      "\u001b[0;31mKeyboardInterrupt\u001b[0m: "
     ]
    }
   ],
   "source": [
    "while True:\n",
    "    schedule.run_pending()\n",
    "    time.sleep(1)"
   ]
  },
  {
   "cell_type": "code",
   "execution_count": null,
   "metadata": {},
   "outputs": [],
   "source": []
  }
 ],
 "metadata": {
  "kernelspec": {
   "display_name": "Python 3",
   "language": "python",
   "name": "python3"
  },
  "language_info": {
   "codemirror_mode": {
    "name": "ipython",
    "version": 3
   },
   "file_extension": ".py",
   "mimetype": "text/x-python",
   "name": "python",
   "nbconvert_exporter": "python",
   "pygments_lexer": "ipython3",
   "version": "3.7.4"
  }
 },
 "nbformat": 4,
 "nbformat_minor": 2
}
