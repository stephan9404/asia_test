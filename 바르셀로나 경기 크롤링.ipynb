{
 "cells": [
  {
   "cell_type": "code",
   "execution_count": 1,
   "metadata": {},
   "outputs": [],
   "source": [
    "import requests\n",
    "from bs4 import BeautifulSoup\n",
    "\n",
    "def barcelona():\n",
    "    #StubHub 사이트 \n",
    "    URL='https://www.stubhub.co.kr/fc-%E1%84%87%E1%85%A1%E1%84%85%E1%85%B3%E1%84%89%E1%85%A6%E1%86%AF%E1%84%85%E1%85%A9%E1%84%82%E1%85%A1-barcelona-%E1%84%90%E1%85%B5%E1%84%8F%E1%85%A6%E1%86%BA/ca38'\n",
    "    html=requests.get(URL).text\n",
    "    soup=BeautifulSoup(html,'html.parser')\n",
    "\n",
    "    date=[] ; day=[] ; title=[] ; time=[] ; location=[] ; price=[]\n",
    "\n",
    "    #바르셀로나 경기 날짜 불러오기\n",
    "    datee = soup.find_all('span',{'class': 'date__month'})\n",
    "    for dt in range(len(datee)):\n",
    "        date.append(datee[dt].text.replace('\\n','').strip())\n",
    "\n",
    "    #바르셀로나 경기 요일 불러오기\n",
    "    dayy = soup.find_all('span',{'class':'date__weekday'})\n",
    "    for dy in range(len(dayy)):\n",
    "        day.append(dayy[dy].text.replace('\\n','').strip())\n",
    "\n",
    "    #바르셀로나 경기 제목 불러오기\n",
    "    titlee = soup.find_all('span',{'class':'event__title'})\n",
    "    for ti in range(len(titlee)):\n",
    "        title.append(titlee[ti].text)\n",
    "\n",
    "    #바르셀로나 경기 시간 불러오기\n",
    "    timee = soup.find_all('time')\n",
    "    for tm in range(len(timee)):\n",
    "        if(tm%2!=0):\n",
    "            time.append(timee[tm].text.replace('\\n','').strip())\n",
    "\n",
    "    #바르셀로나 경기 장소 불러오기\n",
    "    locationn = soup.find_all('span',{'class':'event__location'})\n",
    "    for lc in range(len(locationn)):\n",
    "        location.append(locationn[lc].text.replace('\\n','').strip())\n",
    "\n",
    "    #바르셀로나 경기 최저 가격 불러오기\n",
    "    pricee = soup.find_all('strong')\n",
    "    for pr in range(len(pricee)):\n",
    "        price.append(pricee[pr].text)\n",
    "\n",
    "    #데이터 하나로 합치기\n",
    "    barcelona =[]\n",
    "    for i in range(len(title)):\n",
    "        box = '경기 날짜: '+date[i]+' '+day[i]+' '+time[i]+' | '+'경기: '+title[i]+location[i]+'| 최저가격:'+price[i]\n",
    "        barcelona.append(box)\n",
    "    \n",
    "    return barcelona"
   ]
  },
  {
   "cell_type": "code",
   "execution_count": 3,
   "metadata": {},
   "outputs": [
    {
     "data": {
      "text/plain": [
       "['경기 날짜: 2월 22일 토 16:00 | 경기: FC 바르셀로나(Barcelona) vs 에이바르(SD Eibar)캄프누 스타디움, 바르셀로나, 스페인| 최저가격:￦55,654',\n",
       " '경기 날짜: 2월 25일 화 21:00 | 경기: 나폴리(SSC Napoli) vs FC 바르셀로나(Barcelona)산 파올로 스타디움, Napoli, 이탈리아| 최저가격:￦146,091',\n",
       " '경기 날짜: 3월 1일 일 21:00 | 경기: 레알 마드리드 CF(Real Madrid) vs FC 바르셀로나(Barcelona)산티아고 베르나베우 스타디움, 마드리드, 스페인| 최저가격:￦407,665',\n",
       " \"경기 날짜: 3월 5일 목 19:40 | 경기: Barcelona vs Colombia Legends BogotaEstadio Nemesio Camacho 'El Campín', 보고타, 콜롬비아| 최저가격:+100\",\n",
       " '경기 날짜: 3월 7일 토 18:30 | 경기: FC 바르셀로나(Barcelona) vs 레알 소시에다드(Real Sociedad)캄프누 스타디움, 바르셀로나, 스페인| 최저가격:￦40,541',\n",
       " '경기 날짜: 3월 15일 일 18:00 | 경기: RCD 마요르카(Mallorca) vs FC 바르셀로나(Barcelona)Estadio Son Moix, Palma de Mallorca, 스페인| 최저가격:￦84,872',\n",
       " '경기 날짜: 3월 18일 수 21:00 | 경기: FC 바르셀로나(Barcelona) vs 나폴리(SSC Napoli)캄프누 스타디움, 바르셀로나, 스페인| 최저가격:￦219,833',\n",
       " '경기 날짜: 3월 22일 일 18:00 | 경기: FC 바르셀로나(Barcelona) vs CD 레가네스(Leganes)캄프누 스타디움, 바르셀로나, 스페인| 최저가격:￦201,676',\n",
       " '경기 날짜: 4월 5일 일 18:00 | 경기: 세비야 FC(Sevilla) vs FC 바르셀로나(Barcelona)라몬 산체스 피스후안 스타디움, Sevilla, 스페인| 최저가격:￦84,552',\n",
       " '경기 날짜: 4월 12일 일 18:00 | 경기: FC 바르셀로나(Barcelona) vs 아틀레틱 빌바오(Athletic Bilbao)캄프누 스타디움, 바르셀로나, 스페인| 최저가격:￦235,138',\n",
       " '경기 날짜: 4월 22일 수 18:00 | 경기: 셀타 비고(Celta de Vigo) vs FC 바르셀로나(Barcelona)발라이도스 스타디움, 비고, 스페인| 최저가격:￦118,265',\n",
       " '경기 날짜: 4월 26일 일 18:00 | 경기: FC 바르셀로나(Barcelona) vs 아틀레티코 마드리드(Atletico Madrid)캄프누 스타디움, 바르셀로나, 스페인| 최저가격:￦153,048',\n",
       " '경기 날짜: 5월 3일 일 18:00 | 경기: 비야레알(Villarreal CF) vs FC 바르셀로나(Barcelona)엘 마드리갈 스타디움, 비야레알, 스페인| 최저가격:￦255,938',\n",
       " '경기 날짜: 5월 10일 일 18:00 | 경기: FC 바르셀로나(Barcelona) vs RCD 에스파뇰(Espanyol)캄프누 스타디움, 바르셀로나, 스페인| 최저가격:￦152,756',\n",
       " '경기 날짜: 5월 13일 수 18:00 | 경기: 레알 바야돌리드 CF(Real Valladolid) vs FC 바르셀로나(Barcelona)호세 소르리야 스타디움, 바야돌리드, 스페인| 최저가격:￦137,729',\n",
       " '경기 날짜: 5월 17일 일 18:00 | 경기: FC 바르셀로나(Barcelona) vs CA 오사수나(Osasuna)캄프누 스타디움, 바르셀로나, 스페인| 최저가격:￦193,397',\n",
       " '경기 날짜: 5월 24일 일 18:00 | 경기: 데포르티보 알라베스(Deportivo Alaves) vs FC 바르셀로나(Barcelona)Estadio de Mendizorroza, Vitoria-Gasteiz, 스페인| 최저가격:￦137,729']"
      ]
     },
     "execution_count": 3,
     "metadata": {},
     "output_type": "execute_result"
    }
   ],
   "source": [
    "barcelona()"
   ]
  },
  {
   "cell_type": "code",
   "execution_count": null,
   "metadata": {},
   "outputs": [],
   "source": []
  }
 ],
 "metadata": {
  "kernelspec": {
   "display_name": "Python 3",
   "language": "python",
   "name": "python3"
  },
  "language_info": {
   "codemirror_mode": {
    "name": "ipython",
    "version": 3
   },
   "file_extension": ".py",
   "mimetype": "text/x-python",
   "name": "python",
   "nbconvert_exporter": "python",
   "pygments_lexer": "ipython3",
   "version": "3.7.4"
  }
 },
 "nbformat": 4,
 "nbformat_minor": 2
}
