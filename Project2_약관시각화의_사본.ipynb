{
 "cells": [
  {
   "cell_type": "code",
   "execution_count": 0,
   "metadata": {
    "colab": {},
    "colab_type": "code",
    "id": "yE6oG2bV1Xo5"
   },
   "outputs": [],
   "source": [
    "!pip install pyecharts"
   ]
  },
  {
   "cell_type": "code",
   "execution_count": 0,
   "metadata": {
    "colab": {},
    "colab_type": "code",
    "id": "U3SXksbcC-yA"
   },
   "outputs": [],
   "source": [
    "!git clone https://github.com/pyecharts/pyecharts.git\n",
    "!cd pyecharts\n",
    "!pip install -r requirements.txt\n",
    "!python setup.py install"
   ]
  },
  {
   "cell_type": "code",
   "execution_count": 0,
   "metadata": {
    "colab": {},
    "colab_type": "code",
    "id": "nvnyVUElEmSy"
   },
   "outputs": [],
   "source": [
    "from pyecharts.charts import Bar\n",
    "from pyecharts.charts import Line\n",
    "from pyecharts.charts import Grid\n",
    "from pyecharts import options as opts"
   ]
  },
  {
   "cell_type": "code",
   "execution_count": 0,
   "metadata": {
    "colab": {},
    "colab_type": "code",
    "id": "3t2BkmDjVuES"
   },
   "outputs": [],
   "source": [
    "# pyecharts가 최신 버전일 때 실행 가능\n",
    "\n",
    "def grid_vertical() -> Grid:\n",
    "  bar = (\n",
    "      Bar()\n",
    "        .add_xaxis(['중증치매간병비','중등도이상 치매간병비','경증이상 치매간병비','중증치매간병 생활자금','신골절치료비','신깁스치료비',\n",
    "                    '상해응급실내원비','중등도이상 치매간병생활자금','경증이상 치매간병생활자금','중증치매간병 생활자금(3년월지급형)',\n",
    "                    '중등도이상 치매간병생활자금(3년월지급형)','경증이상 치매간병생활자금(3년월지급형)'])\n",
    "        .add_yaxis('총지급금액(최소)', [5000,2000,500,600,510,10.5,1,600,480,360,360,360])\n",
    "        .add_yaxis('총지급금액(최대)', [5000,2000,500,600,700,16,1,600,480,360,360,360])\n",
    "        .set_global_opts(title_opts=opts.TitleOpts(title=\"질병 종류별 지급금액\", subtitle=\"총지급금액(단위: 만원)\"))\n",
    "        )\n",
    "  line = (\n",
    "      Line()\n",
    "        .add_xaxis(['중증치매간병비','중등도이상 치매간병비','경증이상 치매간병비','중증치매간병 생활자금','신골절치료비','신깁스치료비',\n",
    "                    '상해응급실내원비','중등도이상 치매간병생활자금','경증이상 치매간병생활자금','중증치매간병 생활자금(3년월지급형)',\n",
    "                    '중등도이상 치매간병생활자금(3년월지급형)','경증이상 치매간병생활자금(3년월지급형)'])\n",
    "        .add_yaxis('총지급금액(최소)', [5000,2000,500,600,510,10.5,1,600,480,360,360,360])\n",
    "        .add_yaxis('총지급금액(최대)', [5000,2000,500,600,700,16,1,600,480,360,360,360])\n",
    "        .set_global_opts(\n",
    "            title_opts=opts.TitleOpts(title=\"질병 종류별 지급금액\", pos_top=\"48%\"),\n",
    "            legend_opts=opts.LegendOpts(pos_top=\"48%\"),)\n",
    "        )\n",
    "  grid = (\n",
    "      Grid()\n",
    "        .add(bar, grid_opts=opts.GridOpts(pos_bottom=\"60%\"))\n",
    "        .add(line, grid_opts=opts.GridOpts(pos_top=\"60%\"))\n",
    "  )\n",
    "  return grid\n",
    "grid_vertical().render()"
   ]
  },
  {
   "cell_type": "code",
   "execution_count": 0,
   "metadata": {
    "colab": {},
    "colab_type": "code",
    "id": "Zgaf3hSD36LD"
   },
   "outputs": [],
   "source": []
  },
  {
   "cell_type": "code",
   "execution_count": 0,
   "metadata": {
    "colab": {},
    "colab_type": "code",
    "id": "TCCXtYmi35_H"
   },
   "outputs": [],
   "source": []
  },
  {
   "cell_type": "code",
   "execution_count": 0,
   "metadata": {
    "colab": {},
    "colab_type": "code",
    "id": "z2ZntTpdCYEZ"
   },
   "outputs": [],
   "source": [
    "# Overlap을 실행하기 위해 pyecharts를 0.5.11 버전으로 변경\n",
    "\n",
    "!pip uninstall pyecharts\n",
    "!pip install pyecharts==0.5.11"
   ]
  },
  {
   "cell_type": "code",
   "execution_count": 0,
   "metadata": {
    "colab": {},
    "colab_type": "code",
    "id": "MH62Uus3EyE8"
   },
   "outputs": [],
   "source": [
    "!git clone https://github.com/pyecharts/pyecharts.git\n",
    "!cd pyecharts\n",
    "!pip install -r requirements.txt\n",
    "!python setup.py install"
   ]
  },
  {
   "cell_type": "code",
   "execution_count": 0,
   "metadata": {
    "colab": {},
    "colab_type": "code",
    "id": "_w0Rza0OeqBQ"
   },
   "outputs": [],
   "source": [
    "from pyecharts import Bar, Line, Overlap, Grid"
   ]
  },
  {
   "cell_type": "code",
   "execution_count": 0,
   "metadata": {
    "colab": {},
    "colab_type": "code",
    "id": "NXJK9eumt_nF"
   },
   "outputs": [],
   "source": [
    "# pyecharts가 0.5.11 버전일 때 실행가능\n",
    "\n",
    "attr = ['중증치매간병비','중등도이상 치매간병비','경증이상 치매간병비','중증치매간병 생활자금','신골절치료비','신깁스치료비',\n",
    "        '상해응급실내원비','중등도이상 치매간병생활자금','경증이상 치매간병생활자금','중증치매간병 생활자금(3년)',\n",
    "        '중등도이상 치매간병생활자금(3년)','경증이상 치매간병생활자금(3년)']\n",
    "v1 = [5000,2000,500,600,510,10.5,1,600,480,360,360,360]\n",
    "v2 = [5000,2000,500,600,700,16,1,600,480,360,360,360]\n",
    "bar = Bar(\"질병 종류별 지급금액\")\n",
    "bar.add(\"총지급금액(최소)\", attr, v1, xaxis_rotate=30)\n",
    "bar.add(\"총지급금액(최대)\", attr, v2, xaxis_rotate=30)\n",
    "bar.render()"
   ]
  },
  {
   "cell_type": "code",
   "execution_count": 0,
   "metadata": {
    "colab": {},
    "colab_type": "code",
    "id": "Zv_QKEzco9xy"
   },
   "outputs": [],
   "source": [
    "line = Line(\"질병 종류별 지급금액\")\n",
    "line.add(\"총지급금액(최소)\", attr, v1, xaxis_rotate=30)\n",
    "line.add(\"총지급금액(최대)\", attr, v2, xaxis_rotate=30)\n",
    "line.render()"
   ]
  },
  {
   "cell_type": "code",
   "execution_count": 0,
   "metadata": {
    "colab": {},
    "colab_type": "code",
    "id": "Qs6rg69Mo919"
   },
   "outputs": [],
   "source": [
    "# 기본계약 (Tree)\n",
    "\n",
    "data = [\n",
    "    {\"children\": [\n",
    "            {\"children\": [\n",
    "                    {\"children\": [],\"name\": \"첫 보험료 납입시점\"},\n",
    "                   ],\"name\": \"보장개시일\"},\n",
    "            {\"children\": [\n",
    "                    {\"children\": [],\"name\": \"최초 1회\"},\n",
    "                    ],\"name\": \"보장횟수\"},\n",
    "            {\"children\": [\n",
    "                    {\"children\": [],\"name\": \"5,000만원\"},\n",
    "                    ],\"name\": \"보장금액\"}\n",
    "                  ],\"name\": \"중증치매간병비\"}\n",
    "]\n",
    "\n",
    "\n",
    "# {\"children\": [],\"name\": \"H\"}"
   ]
  },
  {
   "cell_type": "code",
   "execution_count": 0,
   "metadata": {
    "colab": {},
    "colab_type": "code",
    "id": "YVWkrkteo96Z"
   },
   "outputs": [],
   "source": [
    "from pyecharts import Tree\n",
    "\n",
    "tree = Tree(\"기본계약\", width=1000, height=500)\n",
    "tree.add(\"\", data)\n",
    "tree.render()"
   ]
  },
  {
   "cell_type": "code",
   "execution_count": 0,
   "metadata": {
    "colab": {},
    "colab_type": "code",
    "id": "q7FxQLOBSWbg"
   },
   "outputs": [],
   "source": [
    "# 선택계약 - 보장개시일 (Tree)\n",
    "\n",
    "data = [\n",
    "    {\"children\": [\n",
    "            {\"children\": [\n",
    "                    {\"children\": [],\"name\": \"중증(기본계약)\"},\n",
    "                    {\"children\": [],\"name\": \"중증 생활자금\"},\n",
    "                    {\"children\": [],\"name\": \"신골절치료비\"},\n",
    "                    {\"children\": [],\"name\": \"신깁스치료비\"},\n",
    "                    {\"children\": [],\"name\": \"상해응급실내원\"},\n",
    "                    {\"children\": [],\"name\": \"중증 생활자금(3년)\"},\n",
    "                   ],\"name\": \"첫 보혐료 납부 직후 보장 항목\"},\n",
    "            {\"children\": [\n",
    "                    {\"children\": [],\"name\": \"중등도이상\"},\n",
    "                    {\"children\": [],\"name\": \"경증이상\"},\n",
    "                    {\"children\": [],\"name\": \"중등도이상 생활자금\"},\n",
    "                    {\"children\": [],\"name\": \"경증이상 생활자금\"},\n",
    "                    {\"children\": [],\"name\": \"중등도이상 생활자금(3년)\"},\n",
    "                    {\"children\": [],\"name\": \"경증이상 생활자금(3년)\"},\n",
    "                    ],\"name\": \"계약일부터 1년 이후 보장 항목\"}\n",
    "                  ],\"name\": \"보장개시일\"}\n",
    "]\n",
    "\n",
    "\n",
    "# {\"children\": [],\"name\": \"H\"}"
   ]
  },
  {
   "cell_type": "code",
   "execution_count": 0,
   "metadata": {
    "colab": {},
    "colab_type": "code",
    "id": "q3W7cpqnSXIX"
   },
   "outputs": [],
   "source": [
    "from pyecharts import Tree\n",
    "\n",
    "tree = Tree(\"선택계약(보장개시일)\", width=1200, height=1000)\n",
    "tree.add(\"\", data)\n",
    "tree.render()"
   ]
  },
  {
   "cell_type": "code",
   "execution_count": 0,
   "metadata": {
    "colab": {},
    "colab_type": "code",
    "id": "fGSDUajH-cyX"
   },
   "outputs": [],
   "source": [
    "# 선택계약 - 보장횟수 (Bar)\n",
    "\n",
    "attr = ['중증(기본계약)','상해응급실내원','신골절치료비','신깁스치료비','경증이상','경증 생활자금','경증 생활자금(3년)','중증 생활자금',\n",
    "        '중증 생활자금(3년)','중등도이상', '중등도 생활자금', '중등도 생활자금(3년)']\n",
    "v1 = [1,3,3,3,1,1,1,1,1,1,1,1]\n",
    "bar = Bar(\"선택계약(보장횟수)\", extra_html_text_label=[\"※ 보장횟수에 제한이 없는 경우에는 3으로 표시\"])\n",
    "bar.add(\"보장횟수\", attr, v1, xaxis_rotate=30)\n",
    "bar.render()"
   ]
  },
  {
   "cell_type": "code",
   "execution_count": 0,
   "metadata": {
    "colab": {},
    "colab_type": "code",
    "id": "ATq8HoMWA_hO"
   },
   "outputs": [],
   "source": [
    "# 선택계약 - 보장금액 (Bar)\n",
    "\n",
    "from pyecharts import Bar\n",
    "\n",
    "attr = ['상해응급실내원','경증이상','경증 생활자금','경증 생활자금(3년)','중증 생활자금','중증 생활자금(3년)',\n",
    "        '중등도이상', '중등도 생활자금', '중등도 생활자금(3년)']\n",
    "v1 = [1, 500, 480, 360, 600, 360, 2000, 600, 360]\n",
    "\n",
    "bar = Bar(\"선택계약(총지급금액)\")\n",
    "bar.add(\"총지급금액(단위 : 만 원)\", attr, v1, mark_line=[\"average\"], mark_point=[\"max\", \"min\"], xaxis_rotate=30)\n",
    "bar.render()"
   ]
  },
  {
   "cell_type": "code",
   "execution_count": 0,
   "metadata": {
    "colab": {},
    "colab_type": "code",
    "id": "M-DdaHnkChfr"
   },
   "outputs": [],
   "source": [
    "# 선택계약 - 보장금액2 (Bar)\n",
    "\n",
    "attr = ['신골절치료비','신깁스치료비']\n",
    "v1 = [510,10.5]\n",
    "v2 = [700,16]\n",
    "\n",
    "bar = Bar(\"선택계약(총지급금액)\",subtitle='단위 : 만 원')\n",
    "bar.add(\"총지급금액(최소)\", attr, v1)\n",
    "bar.add(\"총지급금액(최대)\", attr, v2)\n",
    "bar.render()"
   ]
  },
  {
   "cell_type": "code",
   "execution_count": 0,
   "metadata": {
    "colab": {},
    "colab_type": "code",
    "id": "158YYN68Yatk"
   },
   "outputs": [],
   "source": [
    "# 선택계약 - 질병별 지급률 (Pie)\n",
    "\n",
    "from pyecharts import Pie\n",
    "from pyecharts import Style\n",
    "\n",
    "pie = Pie('신깁스치료비 지급률', title_pos='center')\n",
    "style = Style()\n",
    "pie_style = style.add(\n",
    "    label_pos=\"center\",\n",
    "    is_label_show=True,\n",
    "    label_text_color=None\n",
    ")\n",
    "\n",
    "pie.add(\n",
    "    \"\", [\"손가락캐스트\", \"\"], [5, 95], center=[30, 30], radius=[18, 24], **pie_style\n",
    ")\n",
    "pie.add(\n",
    "    \"\", [\"단상지\", \"\"], [10, 90], center=[50, 30], radius=[18, 24], **pie_style\n",
    ")\n",
    "pie.add(\n",
    "    \"\", [\"장상지\", \"\"], [20, 80], center=[70, 30], radius=[18, 24], **pie_style\n",
    ")\n",
    "pie.add(\n",
    "    \"\", [\"단하지 외 4개\", \"\"], [30, 70], center=[30, 70], radius=[18, 24], **pie_style\n",
    ")\n",
    "pie.add(\n",
    "    \"\", [\"장하지 외 4개\", \"\"], [40, 60], center=[50, 70], radius=[18, 24], **pie_style\n",
    ")\n",
    "pie.add(\n",
    "    \"\", [\"고수상\", \"\"], [60, 40], center=[70, 70], radius=[18, 24], legend_top=\"center\", **pie_style\n",
    ")\n",
    "pie.render()"
   ]
  },
  {
   "cell_type": "code",
   "execution_count": 0,
   "metadata": {
    "colab": {},
    "colab_type": "code",
    "id": "ubZBPOPmGkhh"
   },
   "outputs": [],
   "source": [
    "# 보험료 계산 (Bar)\n",
    "\n",
    "attr = ['보험료(단위 : 원)']\n",
    "v1 = [187000]\n",
    "v2 = [167]\n",
    "v3 = [15645]\n",
    "v4 = [58]\n",
    "v5 = [23255]\n",
    "v6 = [21002]\n",
    "v7 = [16154]\n",
    "v8 = [21096]\n",
    "v9 = [12969]\n",
    "v10 = [82440]\n",
    "v11 = [23291]\n",
    "v12 = [14319]\n",
    "\n",
    "bar = Bar()\n",
    "bar.add(\"중증(기본계약)\", attr, v1, is_stack=True, is_convert=True, is_label_show=True)\n",
    "bar.add(\"상해응급실내원\", attr, v2, is_stack=True, is_convert=True, is_label_show=True)\n",
    "bar.add(\"신골절치료비\", attr, v3, is_stack=True, is_convert=True, is_label_show=True)\n",
    "bar.add(\"신깁스치료비\", attr, v4, is_stack=True, is_convert=True, is_label_show=True)\n",
    "bar.add(\"경증이상\", attr, v5, is_stack=True, is_convert=True, is_label_show=True)\n",
    "bar.add(\"경증 생활자금\", attr, v6, is_stack=True, is_convert=True, is_label_show=True)\n",
    "bar.add(\"경증 생활자금(3년)\", attr, v7, is_stack=True, is_convert=True, is_label_show=True)\n",
    "bar.add(\"중증 생활자금\", attr, v8, is_stack=True, is_convert=True, is_label_show=True)\n",
    "bar.add(\"중증 생활자금(3년)\", attr, v9, is_stack=True, is_convert=True, is_label_show=True)\n",
    "bar.add(\"중등도이상\", attr, v10, is_stack=True, is_convert=True, is_label_show=True)\n",
    "bar.add(\"중등도 생활자금\", attr, v11, is_stack=True, is_convert=True, is_label_show=True)\n",
    "bar.add(\"중등도 생활자금(3년)\", attr, v12, is_stack=True, is_convert=True, is_label_show=True)\n",
    "bar.render()"
   ]
  },
  {
   "cell_type": "code",
   "execution_count": 0,
   "metadata": {
    "colab": {},
    "colab_type": "code",
    "id": "NVsKfFjaLJjN"
   },
   "outputs": [],
   "source": []
  },
  {
   "cell_type": "code",
   "execution_count": 0,
   "metadata": {
    "colab": {},
    "colab_type": "code",
    "id": "yVZWOcsOLJYm"
   },
   "outputs": [],
   "source": [
    "import calendar"
   ]
  },
  {
   "cell_type": "code",
   "execution_count": 0,
   "metadata": {
    "colab": {
     "base_uri": "https://localhost:8080/",
     "height": 140
    },
    "colab_type": "code",
    "id": "O9ULmeMGLJTo",
    "outputId": "564bdeb0-535a-41ce-96cb-31378f219d92"
   },
   "outputs": [
    {
     "name": "stdout",
     "output_type": "stream",
     "text": [
      "   February 2020\n",
      "Mo Tu We Th Fr Sa Su\n",
      "                1  2\n",
      " 3  4  5  6  7  8  9\n",
      "10 11 12 13 14 15 16\n",
      "17 18 19 20 21 22 23\n",
      "24 25 26 27 28 29\n"
     ]
    }
   ],
   "source": [
    "calendar.prmonth(2020,2)"
   ]
  },
  {
   "cell_type": "code",
   "execution_count": 0,
   "metadata": {
    "colab": {},
    "colab_type": "code",
    "id": "Vbd8DCk_fVwS"
   },
   "outputs": [],
   "source": []
  },
  {
   "cell_type": "code",
   "execution_count": 0,
   "metadata": {
    "colab": {
     "base_uri": "https://localhost:8080/",
     "height": 35
    },
    "colab_type": "code",
    "id": "38RLd7_OhHNt",
    "outputId": "33bfc3a8-2afc-4dbf-9c85-c73d43557c08"
   },
   "outputs": [
    {
     "data": {
      "text/plain": [
       "'/content/render.html'"
      ]
     },
     "execution_count": 10,
     "metadata": {
      "tags": []
     },
     "output_type": "execute_result"
    }
   ],
   "source": [
    "# 선택계약 - 보장금액 (Bar 합치기)\n",
    "\n",
    "def grid_vertical() -> Grid:\n",
    "  bar1 = (\n",
    "      Bar()\n",
    "        .add_xaxis(['상해응급실내원','경증이상','경증 생활자금','경증 생활자금(3년)','중증 생활자금','중증 생활자금(3년)',\n",
    "                    '중등도이상', '중등도 생활자금', '중등도 생활자금(3년)'])\n",
    "        .add_yaxis(\"총지급금액(단위 : 만 원)\", [1, 500, 480, 360, 600, 360, 2000, 600, 360],\n",
    "                   )\n",
    "        .set_global_opts(title_opts=opts.TitleOpts(title=\"선택계약(총지급금액)\")))\n",
    "  bar2 = (\n",
    "      Bar()\n",
    "        .add_xaxis(['신골절치료비','신깁스치료비'])\n",
    "        .add_yaxis('총지급금액(최소)', [510,10.5])\n",
    "        .add_yaxis('총지급금액(최대)', [700,16])\n",
    "        .set_global_opts(\n",
    "            title_opts=opts.TitleOpts(title=\"선택계약(총지급금액)\", pos_top=\"48%\"),\n",
    "            legend_opts=opts.LegendOpts(pos_top=\"48%\"),))\n",
    "  grid = (\n",
    "      Grid()\n",
    "        .add(bar1, grid_opts=opts.GridOpts(pos_bottom=\"60%\"))\n",
    "        .add(bar2, grid_opts=opts.GridOpts(pos_top=\"60%\")))\n",
    "  return grid\n",
    "grid_vertical().render()"
   ]
  },
  {
   "cell_type": "code",
   "execution_count": 0,
   "metadata": {
    "colab": {},
    "colab_type": "code",
    "id": "fuWtoDyUhfte"
   },
   "outputs": [],
   "source": []
  }
 ],
 "metadata": {
  "colab": {
   "collapsed_sections": [],
   "name": "Project2_약관시각화의 사본",
   "provenance": [],
   "toc_visible": true
  },
  "kernelspec": {
   "display_name": "Python 3",
   "language": "python",
   "name": "python3"
  },
  "language_info": {
   "codemirror_mode": {
    "name": "ipython",
    "version": 3
   },
   "file_extension": ".py",
   "mimetype": "text/x-python",
   "name": "python",
   "nbconvert_exporter": "python",
   "pygments_lexer": "ipython3",
   "version": "3.7.4"
  }
 },
 "nbformat": 4,
 "nbformat_minor": 1
}
