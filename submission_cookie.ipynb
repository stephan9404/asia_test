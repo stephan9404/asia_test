{
 "cells": [
  {
   "cell_type": "markdown",
   "metadata": {},
   "source": [
    "# 오늘의 날씨 메일링 봇\n",
    "\n",
    "매일 정해진 시간(7시 무렵) 오늘의 날씨 정보를 메일로 보냅니다.\n",
    "이후 13시, 19시에 현재 기온을 유머러스한 멘트와 함께 보냅니다. 하하하.\n",
    "맨 아래는 테스트용 코드입니다.\n",
    "\n",
    "* 현 코드는 가산동만 가능, 함수 mission(e6)의 target 변수 변경 시 다른 지역 가능함."
   ]
  },
  {
   "cell_type": "code",
   "execution_count": 1,
   "metadata": {},
   "outputs": [
    {
     "name": "stdout",
     "output_type": "stream",
     "text": [
      "Collecting bs4\n",
      "  Downloading bs4-0.0.1.tar.gz (1.1 kB)\n",
      "Requirement already satisfied: beautifulsoup4 in ./anaconda3/lib/python3.7/site-packages (from bs4) (4.6.3)\n",
      "Building wheels for collected packages: bs4\n",
      "  Building wheel for bs4 (setup.py) ... \u001b[?25ldone\n",
      "\u001b[?25h  Created wheel for bs4: filename=bs4-0.0.1-py3-none-any.whl size=1278 sha256=c4a7e5c647b438a045934c45b88eb517814816996a4c5cc976cdbb81da6867f7\n",
      "  Stored in directory: /home/ubuntu/.cache/pip/wheels/0a/9e/ba/20e5bbc1afef3a491f0b3bb74d508f99403aabe76eda2167ca\n",
      "Successfully built bs4\n",
      "Installing collected packages: bs4\n",
      "Successfully installed bs4-0.0.1\n"
     ]
    }
   ],
   "source": [
    "!pip install bs4"
   ]
  },
  {
   "cell_type": "code",
   "execution_count": 2,
   "metadata": {},
   "outputs": [
    {
     "name": "stdout",
     "output_type": "stream",
     "text": [
      "Requirement already satisfied: requests in ./anaconda3/lib/python3.7/site-packages (2.19.1)\n",
      "Requirement already satisfied: urllib3<1.24,>=1.21.1 in ./anaconda3/lib/python3.7/site-packages (from requests) (1.23)\n",
      "Requirement already satisfied: certifi>=2017.4.17 in ./anaconda3/lib/python3.7/site-packages (from requests) (2018.8.24)\n",
      "Requirement already satisfied: idna<2.8,>=2.5 in ./anaconda3/lib/python3.7/site-packages (from requests) (2.7)\n",
      "Requirement already satisfied: chardet<3.1.0,>=3.0.2 in ./anaconda3/lib/python3.7/site-packages (from requests) (3.0.4)\n"
     ]
    }
   ],
   "source": [
    "!pip install requests"
   ]
  },
  {
   "cell_type": "code",
   "execution_count": 5,
   "metadata": {},
   "outputs": [
    {
     "name": "stdout",
     "output_type": "stream",
     "text": [
      "Requirement already satisfied: urllib3 in ./anaconda3/lib/python3.7/site-packages (1.23)\r\n"
     ]
    }
   ],
   "source": [
    "!pip install urllib3"
   ]
  },
  {
   "cell_type": "code",
   "execution_count": 45,
   "metadata": {},
   "outputs": [],
   "source": [
    "#크롤링을 위한 lib\n",
    "from bs4 import BeautifulSoup\n",
    "import requests\n",
    "import re\n",
    "#메일을 위한 lib\n",
    "import smtplib\n",
    "from email.mime.text import MIMEText\n",
    "#자동화를 위한 lib\n",
    "import time\n",
    "import schedule\n",
    "from datetime import datetime"
   ]
  },
  {
   "cell_type": "markdown",
   "metadata": {},
   "source": [
    "# 미션 수행 함수"
   ]
  },
  {
   "cell_type": "code",
   "execution_count": 93,
   "metadata": {},
   "outputs": [],
   "source": [
    "def todayWeather(dongName):\n",
    "    head = \"https://search.naver.com/search.naver?sm=tab_hty.top&where=nexearch&query=\"\n",
    "    keywords = dongName\n",
    "    tail = \"+날씨&oquery=오늘의+날씨&tqi=UCGJgwp0JXVss4ffedNssssstHo-344270\"\n",
    "    url = head + keywords + tail\n",
    "    html = requests.get(url).text\n",
    "    bs = BeautifulSoup(html, \"lxml\")\n",
    "    minMax = bs.select_one(\" .merge\").get_text()\n",
    "    sensible = bs.select_one(\" .sensible\").get_text()\n",
    "    uv = bs.select_one(\" .indicator\").get_text()\n",
    "    mise = bs.select(\" .indicator\")[1].select(\"dd\")[0].get_text()\n",
    "    choMise = bs.select(\" .indicator\")[1].select(\"dd\")[1].get_text()\n",
    "    ozone = bs.select(\" .indicator\")[1].select(\"dd\")[2].get_text()\n",
    "    castText = bs.select(\" .info_list\")[0].select(\" .cast_txt\")[0].get_text()\n",
    "    \n",
    "    if (mise[-2:] == \"나쁨\") or (choMise[-2:] == \"나쁨\") or (ozone[-2:] == \"나쁨\"):\n",
    "        mask = \"\\n오늘은 마스크를 써주세요.\\n\"\n",
    "    else:\n",
    "        mask = \"\"\n",
    "\n",
    "        \n",
    "    if uv[-2:] == \"나쁨\":\n",
    "        chucheon = \"\\n선크림을 발라주세요.\\n\"\n",
    "    else:\n",
    "        chucheon = \"\"\n",
    "        \n",
    "    if int(minMax.replace(\"˚\",\"\").split(\"/\")[1]) - int(minMax.replace(\"˚\",\"\").split(\"/\")[0]) > 10:\n",
    "        ilgyo = \"\\n오늘은 일교차가 심하니 감기 조심하세요.\\n\"\n",
    "    else:\n",
    "        ilgyo = \"\"\n",
    "        \n",
    "    return minMax, \"\"\"오늘의 {0} 날씨 알림입니다.\n",
    "{10}                            \n",
    "최저/최고 기온 : {1} \n",
    "체감 온도 : {2}\n",
    "기상예보 : {3}\n",
    "자외선 : {4}\n",
    "{9}                                      \n",
    "공기청정도 알림입니다.\n",
    "미세먼지 : {5}\n",
    "초미세먼지 : {6}\n",
    "오존 : {7}\n",
    "{8}                                          \"\"\".format(dongName, minMax, sensible, castText, uv, mise, choMise, ozone, mask, chucheon, ilgyo)\n",
    "    \n",
    "def nowTemp(dongName):\n",
    "    head = \"https://search.naver.com/search.naver?sm=tab_hty.top&where=nexearch&query=\"\n",
    "    keywords = dongName\n",
    "    tail = \"+날씨&oquery=오늘의+날씨&tqi=UCGJgwp0JXVss4ffedNssssstHo-344270\"\n",
    "    url = head + keywords + tail\n",
    "    html = requests.get(url).text\n",
    "    bs = BeautifulSoup(html, \"lxml\")\n",
    "    now = bs.select_one(\" .info_temperature\").get_text().replace(\"도씨\",\"\")\n",
    "    return now, \"현재 기온은 {}입니다.\\n\\n\".format(now[:-1])\n",
    "\n",
    "def sendMail(me, you, msg, target, minMax):\n",
    "    smtp = smtplib.SMTP_SSL('smtp.gmail.com', 465)\n",
    "    smtp.login(me, 'woigjcbmokllpyxm') ####\n",
    "    msg = MIMEText(msg)\n",
    "    msg['Subject'] = '오늘의 {0} 기온 : {1}'.format(target,minMax)###\n",
    "    smtp.sendmail(me, you, msg.as_string())\n",
    "    smtp.quit()\n",
    "\n",
    "def sendMail_e6(me, you, msg, target, now):\n",
    "    smtp = smtplib.SMTP_SSL('smtp.gmail.com', 465)\n",
    "    smtp.login(me, 'woigjcbmokllpyxm') ####\n",
    "    msg = MIMEText(msg)\n",
    "    msg['Subject'] = '현재의 {0} 기온 : {1}'.format(target,now)###\n",
    "    smtp.sendmail(me, you, msg.as_string())\n",
    "    smtp.quit()    \n",
    "\n",
    "def quotes():\n",
    "    proQuotes = \"https://www.junauza.com/2010/12/top-50-programming-quotes-of-all-time.html\"\n",
    "    funQuotes = \"https://www.junauza.com/2010/02/top-50-funny-computer-quotes.html\"\n",
    "    linQuotes = \"https://www.junauza.com/2008/01/top-50-linux-quotes-of-all-time.html\"\n",
    "    p = re.compile('[0-9]+. [^0-9]+')\n",
    "\n",
    "    html = requests.get(proQuotes).text\n",
    "    bs = BeautifulSoup(html, \"lxml\")\n",
    "    now = bs.select_one(\"#post-body-1882557240479875283\")\n",
    "\n",
    "    pro = now.text\n",
    "    pro = pro[pro.find('50.'):-100]\n",
    "    pro = pro.replace(\"\\n\",\"\")\n",
    "    pro = p.findall(pro)\n",
    "\n",
    "    html = requests.get(funQuotes).text\n",
    "    bs = BeautifulSoup(html, \"lxml\")\n",
    "    now = bs.select_one(\"#post-body-6733972750347481628\")\n",
    "\n",
    "    fun = now.text\n",
    "    fun = fun[fun.find('50. '):-225]\n",
    "    fun = fun.replace(\"\\n\",\"\")\n",
    "    fun = p.findall(fun)\n",
    "\n",
    "    html = requests.get(linQuotes).text\n",
    "    bs = BeautifulSoup(html, \"lxml\")\n",
    "    now = bs.select_one(\"#post-body-733398185143771750\")\n",
    "\n",
    "    lin = now.text\n",
    "    lin = lin[lin.find('50. '):-222]\n",
    "    lin = lin.replace(\"\\n\",\"\")\n",
    "    lin = p.findall(lin)\n",
    "\n",
    "    listFunny = []\n",
    "    listFunny.extend(pro)\n",
    "    listFunny.extend(lin)\n",
    "    listFunny.extend(fun)\n",
    "    listFunny = listFunny[:-16] + listFunny[-8:]\n",
    "\n",
    "    listFunny[57] = listFunny[57] + listFunny[58]\n",
    "    listFunny.pop(58)\n",
    "\n",
    "    listFunny[60] = listFunny[60] + \"0\"\n",
    "    listFunny[61] = listFunny[61][1:]\n",
    "\n",
    "    listFunny[65] = listFunny[65] + listFunny[66]\n",
    "    listFunny.pop(66)\n",
    "    print(len(listFunny))\n",
    "\n",
    "    return listFunny\n",
    "    \n",
    "def mission():\n",
    "    target = \"가산동\"\n",
    "    nowGion, now = nowTemp(target)\n",
    "    minMax, today = todayWeather(target)\n",
    "    sendMail('yunjisag854@gmail.com', 'mroboedu@gmail.com',now + today, target, minMax)\n",
    "\n",
    "def mission_e6():\n",
    "    time = datetime.now().hour + 9\n",
    "    if time > 24:\n",
    "        time -= 24\n",
    "    i = random.randrange(len(listFunny))\n",
    "    ment = \"{0} 하하하\\n\".format(listFunny[i][3:])\n",
    "    if time == 7:\n",
    "        ment = ment + \"\\n좋은 아침입니다. 행복한 하루 되세요.\"\n",
    "    elif time == 13:\n",
    "        ment = ment + \"\\n오늘 오전은 어떠셨나요? 벌써 절반이 지났습니다. 화이팅!\"\n",
    "    elif time == 19:\n",
    "        ment = ment + \"\\n오늘 하루도 수고하셨습니다. 즐거운 저녁시간 되세요.\"\n",
    "    else:\n",
    "        ment = \"{0} 하하하\\n\".format(listFunny[i][3:])\n",
    "    target = \"가산동\"\n",
    "    nowGion, now = nowTemp(target)\n",
    "    msg = ment + \"\\n\" + now\n",
    "    sendMail_e6('yunjisag854@gmail.com', 'mroboedu@gmail.com', msg, target, nowGion)"
   ]
  },
  {
   "cell_type": "code",
   "execution_count": null,
   "metadata": {},
   "outputs": [
    {
     "name": "stdout",
     "output_type": "stream",
     "text": [
      "149\n"
     ]
    }
   ],
   "source": [
    "listFunny = quotes()\n",
    "while True:\n",
    "    time.sleep(3600)\n",
    "    if datetime.today().hour == 7:\n",
    "        while True:\n",
    "            mission()\n",
    "            for i in range(2):\n",
    "                time.sleep(21600)\n",
    "                mission_e6()\n",
    "            time.sleep(21600)\n",
    "            print(\"I`m working... {0}\".format(datetime.today()))"
   ]
  },
  {
   "cell_type": "markdown",
   "metadata": {},
   "source": [
    "# Testing"
   ]
  },
  {
   "cell_type": "code",
   "execution_count": 88,
   "metadata": {
    "collapsed": true
   },
   "outputs": [
    {
     "name": "stdout",
     "output_type": "stream",
     "text": [
      "I`m working... 2020-02-21 01:51:41.385022\n",
      "I`m working... 2020-02-21 01:52:20.108551\n",
      "I`m working... 2020-02-21 01:52:58.837180\n",
      "I`m working... 2020-02-21 01:53:37.071428\n",
      "I`m working... 2020-02-21 01:54:15.624702\n",
      "I`m working... 2020-02-21 01:54:55.332631\n"
     ]
    },
    {
     "ename": "KeyboardInterrupt",
     "evalue": "",
     "output_type": "error",
     "traceback": [
      "\u001b[0;31m---------------------------------------------------------------------------\u001b[0m",
      "\u001b[0;31mKeyboardInterrupt\u001b[0m                         Traceback (most recent call last)",
      "\u001b[0;32m<ipython-input-88-b97a048c35a1>\u001b[0m in \u001b[0;36m<module>\u001b[0;34m()\u001b[0m\n\u001b[1;32m      4\u001b[0m         \u001b[0mtime\u001b[0m\u001b[0;34m.\u001b[0m\u001b[0msleep\u001b[0m\u001b[0;34m(\u001b[0m\u001b[0;36m6\u001b[0m\u001b[0;34m)\u001b[0m\u001b[0;34m\u001b[0m\u001b[0m\n\u001b[1;32m      5\u001b[0m         \u001b[0mmission_e6\u001b[0m\u001b[0;34m(\u001b[0m\u001b[0;34m)\u001b[0m\u001b[0;34m\u001b[0m\u001b[0m\n\u001b[0;32m----> 6\u001b[0;31m     \u001b[0mtime\u001b[0m\u001b[0;34m.\u001b[0m\u001b[0msleep\u001b[0m\u001b[0;34m(\u001b[0m\u001b[0;36m6\u001b[0m\u001b[0;34m)\u001b[0m\u001b[0;34m\u001b[0m\u001b[0m\n\u001b[0m\u001b[1;32m      7\u001b[0m     \u001b[0mprint\u001b[0m\u001b[0;34m(\u001b[0m\u001b[0;34m\"I`m working... {0}\"\u001b[0m\u001b[0;34m.\u001b[0m\u001b[0mformat\u001b[0m\u001b[0;34m(\u001b[0m\u001b[0mdatetime\u001b[0m\u001b[0;34m.\u001b[0m\u001b[0mtoday\u001b[0m\u001b[0;34m(\u001b[0m\u001b[0;34m)\u001b[0m\u001b[0;34m)\u001b[0m\u001b[0;34m)\u001b[0m\u001b[0;34m\u001b[0m\u001b[0m\n",
      "\u001b[0;31mKeyboardInterrupt\u001b[0m: "
     ]
    }
   ],
   "source": [
    "while True:\n",
    "    mission()\n",
    "    for i in range(3):\n",
    "        time.sleep(6)\n",
    "        mission_e6()\n",
    "    time.sleep(6)\n",
    "    print(\"I`m working... {0}\".format(datetime.today()))"
   ]
  }
 ],
 "metadata": {
  "kernelspec": {
   "display_name": "Python 3",
   "language": "python",
   "name": "python3"
  },
  "language_info": {
   "codemirror_mode": {
    "name": "ipython",
    "version": 3
   },
   "file_extension": ".py",
   "mimetype": "text/x-python",
   "name": "python",
   "nbconvert_exporter": "python",
   "pygments_lexer": "ipython3",
   "version": "3.7.4"
  }
 },
 "nbformat": 4,
 "nbformat_minor": 2
}
