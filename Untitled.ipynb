{
 "cells": [
  {
   "cell_type": "code",
   "execution_count": null,
   "metadata": {},
   "outputs": [],
   "source": [
    "import requests\n",
    "from bs4 import BeautifulSoup\n",
    "def barcelona():\n",
    "    #StubHub 사이트\n",
    "    URL='https://www.stubhub.co.kr/fc-%E1%84%87%E1%85%A1%E1%84%85%E1%85%B3%E1%84%89%E1%85%A6%E1%86%AF%E1%84%85%E1%85%A9%E1%84%82%E1%85%A1-barcelona-%E1%84%90%E1%85%B5%E1%84%8F%E1%85%A6%E1%86%BA/ca38'\n",
    "    html=requests.get(URL).text\n",
    "    soup=BeautifulSoup(html,'html.parser')\n",
    "    date=[] ; day=[] ; title=[] ; time=[] ; location=[] ; price=[]\n",
    "    #바르셀로나 경기 날짜 불러오기\n",
    "    datee = soup.find_all('span',{'class': 'date__month'})\n",
    "    for dt in range(len(datee)):\n",
    "        date.append(datee[dt].text.replace('\\n','').strip())\n",
    "    #바르셀로나 경기 요일 불러오기\n",
    "    dayy = soup.find_all('span',{'class':'date__weekday'})\n",
    "    for dy in range(len(dayy)):\n",
    "        day.append(dayy[dy].text.replace('\\n','').strip())\n",
    "    #바르셀로나 경기 제목 불러오기\n",
    "    titlee = soup.find_all('span',{'class':'event__title'})\n",
    "    for ti in range(len(titlee)):\n",
    "        title.append(titlee[ti].text)\n",
    "    #바르셀로나 경기 시간 불러오기\n",
    "    timee = soup.find_all('time')\n",
    "    for tm in range(len(timee)):\n",
    "        if(tm%2!=0):\n",
    "            time.append(timee[tm].text.replace('\\n','').strip())\n",
    "    #바르셀로나 경기 장소 불러오기\n",
    "    locationn = soup.find_all('span',{'class':'event__location'})\n",
    "    for lc in range(len(locationn)):\n",
    "        location.append(locationn[lc].text.replace('\\n','').strip())\n",
    "    #바르셀로나 경기 최저 가격 불러오기\n",
    "    pricee = soup.find_all('strong')\n",
    "    for pr in range(len(pricee)):\n",
    "        price.append(pricee[pr].text)\n",
    "    #데이터 하나로 합치기\n",
    "    barcelona =[]\n",
    "    for i in range(len(title)):\n",
    "        box = '경기 날짜: '+date[i]+' '+day[i]+' '+time[i]+' | '+'경기: '+title[i]+location[i]+'| 최저가격:'+price[i]\n",
    "        barcelona.append(box)\n",
    "    return barcelona"
   ]
  }
 ],
 "metadata": {
  "kernelspec": {
   "display_name": "Python 3",
   "language": "python",
   "name": "python3"
  },
  "language_info": {
   "codemirror_mode": {
    "name": "ipython",
    "version": 3
   },
   "file_extension": ".py",
   "mimetype": "text/x-python",
   "name": "python",
   "nbconvert_exporter": "python",
   "pygments_lexer": "ipython3",
   "version": "3.7.4"
  }
 },
 "nbformat": 4,
 "nbformat_minor": 2
}
