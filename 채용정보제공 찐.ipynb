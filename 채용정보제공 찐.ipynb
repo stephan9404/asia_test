{
 "cells": [
  {
   "cell_type": "markdown",
   "metadata": {},
   "source": [
    "# 데이터 분석 채용정보 종합 제공 서비스\n"
   ]
  },
  {
   "cell_type": "code",
   "execution_count": 17,
   "metadata": {},
   "outputs": [],
   "source": [
    "import smtplib\n",
    "from email.mime.text import MIMEText\n",
    "\n",
    "def sendMail(me, you, msg):\n",
    "    smtp = smtplib.SMTP_SSL('smtp.gmail.com', 465)\n",
    "    smtp.login(me, 'mikyruprcubnmnvy') ####\n",
    "    msg = MIMEText(msg)\n",
    "    msg['Subject'] = '데이터 분석 채용공고 모음'###\n",
    "    smtp.sendmail(me, you, msg.as_string())\n",
    "    smtp.quit()\n"
   ]
  },
  {
   "cell_type": "code",
   "execution_count": 18,
   "metadata": {},
   "outputs": [],
   "source": [
    "def recruit():\n",
    "    import requests\n",
    "    from bs4 import BeautifulSoup\n",
    "    #사람인 주소\n",
    "    URL = \"http://www.saramin.co.kr/zf_user/search?searchType=search&searchword=%EB%8D%B0%EC%9D%B4%ED%84%B0&loc_mcd=102000%2C101000&exp_cd=1%2C2&exp_max=1&company_cd=0%2C1%2C2%2C3%2C4%2C5%2C6%2C7%2C9&panel_type=&search_optional_item=y&search_done=y&panel_count=y\"\n",
    "    html=requests.get(URL).text\n",
    "    soup = BeautifulSoup(html, \"html.parser\")\n",
    "    content=soup.find_all(\"div\",{\"class\":\"item_recruit\"})\n",
    "    info=[] # 제공할 정보 담는 곳\n",
    "\n",
    "    for item1 in content:\n",
    "        title=item1.find(\"h2\",{\"class\":\"job_tit\"}).text # 제목\n",
    "        company=item1.find(\"strong\",{\"class\":\"corp_name\"}).find(\"span\").text #회사\n",
    "        link=item1.find(\"a\") \n",
    "        link=\"http://www.saramin.co.kr\"+link[\"href\"] # 링크\n",
    "        post=\"%s %s\" % (title.lstrip(),company.lstrip()) \n",
    "        info.append(post+link) \n",
    "\n",
    "    \n",
    "    # 잡코리아 주소\n",
    "    URL1 = \"http://www.jobkorea.co.kr/Search/?stext=%EB%8D%B0%EC%9D%B4%ED%84%B0%EB%B6%84%EC%84%9D&local=B000%2CI000&careerType=3&careerMin=1&careerMax=3\"\n",
    "    html1=requests.get(URL1).text\n",
    "    soup1 = BeautifulSoup(html1, \"html.parser\")\n",
    "    content1=soup1.find_all(\"div\",{\"class\":\"post\"})\n",
    "    for item1 in content1:\n",
    "        try:\n",
    "            title=item1.find(\"div\",{\"class\":\"post-list-info\"}).find(\"a\")[\"title\"]# 제목\n",
    "            company=item1.find(\"a\",{\"class\":\"name\"}).text #회사\n",
    "            link=item1.find(\"a\")\n",
    "            link=\"http://www.jobkorea.co.kr\"+link[\"href\"] # 링크\n",
    "            post=\"%s %s\" % (title.lstrip(),company.lstrip())\n",
    "            info.append(post+link)\n",
    "        except:\n",
    "            break\n",
    "\n",
    "    return info\n",
    "\n"
   ]
  },
  {
   "cell_type": "code",
   "execution_count": 19,
   "metadata": {},
   "outputs": [],
   "source": [
    "import schedule\n",
    "import time\n"
   ]
  },
  {
   "cell_type": "code",
   "execution_count": 20,
   "metadata": {},
   "outputs": [],
   "source": [
    "def job():\n",
    "    sendMail('plain3785@gmail.com', 'mroboedu@gmail.com','\\n\\n'.join(recruit()))#"
   ]
  },
  {
   "cell_type": "code",
   "execution_count": 21,
   "metadata": {},
   "outputs": [
    {
     "data": {
      "text/plain": [
       "Every 30 seconds do job() (last run: [never], next run: 2020-02-21 01:53:00)"
      ]
     },
     "execution_count": 21,
     "metadata": {},
     "output_type": "execute_result"
    }
   ],
   "source": [
    "schedule.every(30).seconds.do(job)"
   ]
  },
  {
   "cell_type": "code",
   "execution_count": 22,
   "metadata": {},
   "outputs": [
    {
     "ename": "KeyboardInterrupt",
     "evalue": "",
     "output_type": "error",
     "traceback": [
      "\u001b[0;31m---------------------------------------------------------------------------\u001b[0m",
      "\u001b[0;31mKeyboardInterrupt\u001b[0m                         Traceback (most recent call last)",
      "\u001b[0;32m<ipython-input-22-2d78333a8181>\u001b[0m in \u001b[0;36m<module>\u001b[0;34m()\u001b[0m\n\u001b[1;32m      1\u001b[0m \u001b[0;32mwhile\u001b[0m \u001b[0;32mTrue\u001b[0m\u001b[0;34m:\u001b[0m\u001b[0;34m\u001b[0m\u001b[0m\n\u001b[1;32m      2\u001b[0m     \u001b[0mschedule\u001b[0m\u001b[0;34m.\u001b[0m\u001b[0mrun_pending\u001b[0m\u001b[0;34m(\u001b[0m\u001b[0;34m)\u001b[0m\u001b[0;34m\u001b[0m\u001b[0m\n\u001b[0;32m----> 3\u001b[0;31m     \u001b[0mtime\u001b[0m\u001b[0;34m.\u001b[0m\u001b[0msleep\u001b[0m\u001b[0;34m(\u001b[0m\u001b[0;36m1\u001b[0m\u001b[0;34m)\u001b[0m\u001b[0;34m\u001b[0m\u001b[0m\n\u001b[0m",
      "\u001b[0;31mKeyboardInterrupt\u001b[0m: "
     ]
    }
   ],
   "source": [
    "while True:\n",
    "    schedule.run_pending()\n",
    "    time.sleep(1)"
   ]
  },
  {
   "cell_type": "code",
   "execution_count": null,
   "metadata": {},
   "outputs": [],
   "source": []
  }
 ],
 "metadata": {
  "kernelspec": {
   "display_name": "Python 3",
   "language": "python",
   "name": "python3"
  },
  "language_info": {
   "codemirror_mode": {
    "name": "ipython",
    "version": 3
   },
   "file_extension": ".py",
   "mimetype": "text/x-python",
   "name": "python",
   "nbconvert_exporter": "python",
   "pygments_lexer": "ipython3",
   "version": "3.7.4"
  }
 },
 "nbformat": 4,
 "nbformat_minor": 2
}
