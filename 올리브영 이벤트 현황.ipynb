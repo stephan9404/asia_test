{
 "cells": [
  {
   "cell_type": "code",
   "execution_count": null,
   "metadata": {},
   "outputs": [],
   "source": [
    "!pip install schedule\n"
   ]
  },
  {
   "cell_type": "code",
   "execution_count": null,
   "metadata": {},
   "outputs": [],
   "source": [
    "import smtplib\n",
    "from email.mime.text import MIMEText\n",
    "import schedule\n",
    "import time \n",
    "import requests\n",
    "import pandas as pd\n",
    "from bs4 import BeautifulSoup\n",
    "\n",
    "def sendMail(me, you, msg):\n",
    "    smtp = smtplib.SMTP_SSL('smtp.gmail.com', 465)\n",
    "    smtp.login(me, 'kvarywmdfppfishz') \n",
    "    msg = MIMEText(msg)\n",
    "    msg['Subject'] = '가산_Benn_올리브영 진행중인 이벤트'\n",
    "    smtp.sendmail(me, you, msg.as_string())\n",
    "    smtp.quit()   \n",
    "    \n",
    "def event_list():\n",
    "\n",
    "    url = \"https://www.oliveyoung.co.kr/store/main/getEventList.do\"\n",
    "    html = requests.get(url)\n",
    "    total_info = BeautifulSoup(html.text, \"html.parser\")\n",
    "    evt = total_info.find_all(\"div\", {'class': 'event_tab_cont'})\n",
    "\n",
    "    for i in evt:\n",
    "        title_a, content_a, date_a = i.find_all('p', {'class': 'evt_tit'}), i.find_all('p', {'class': 'evt_desc'}), i.find_all('p', {'class': 'evt_date'})\n",
    "\n",
    "    title, content, date = [], [], []\n",
    "    \n",
    "    for a,b,c in zip(title_a, content_a, date_a):\n",
    "        title.append(a.text)\n",
    "        content.append(b.text)\n",
    "        date.append(c.text)\n",
    "    \n",
    "    dic_data = { '제목': title, \n",
    "                 '혜택': content,\n",
    "                 '기간': date }\n",
    "    \n",
    "    df = pd.DataFrame(dic_data)\n",
    "    return df\n",
    "\n",
    "   \n",
    "\n",
    "def job():\n",
    "    new_event = event_list() \n",
    "    # new_event가 리스트일 때, str(new_event) 안써주면 encoding 에러!     \n",
    "    sendMail('ghwo1119@gmail.com', 'stephan9404@naver.com', str(new_event))\n",
    "\n",
    "schedule.every(10).seconds.do(job)    \n",
    "\n",
    "while True:\n",
    "    schedule.run_pending()\n",
    "    time.sleep(1)"
   ]
  },
  {
   "cell_type": "code",
   "execution_count": null,
   "metadata": {},
   "outputs": [],
   "source": []
  }
 ],
 "metadata": {
  "kernelspec": {
   "display_name": "Python 3",
   "language": "python",
   "name": "python3"
  },
  "language_info": {
   "codemirror_mode": {
    "name": "ipython",
    "version": 3
   },
   "file_extension": ".py",
   "mimetype": "text/x-python",
   "name": "python",
   "nbconvert_exporter": "python",
   "pygments_lexer": "ipython3",
   "version": "3.7.4"
  }
 },
 "nbformat": 4,
 "nbformat_minor": 2
}
